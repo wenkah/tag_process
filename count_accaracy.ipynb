{
 "cells": [
  {
   "cell_type": "code",
   "execution_count": 1,
   "metadata": {},
   "outputs": [],
   "source": [
    "import pandas as pd\n",
    "import numpy as np"
   ]
  },
  {
   "cell_type": "code",
   "execution_count": 5,
   "metadata": {},
   "outputs": [
    {
     "name": "stdout",
     "output_type": "stream",
     "text": [
      "                  Image                                     new Prediction\n",
      "0  0_聖誕節_聖誕樹_聖誕設施_0.jpg  聖誕節_聖誕樹_聖誕設施 (0.997497022151947)\\n 蠟燭 (0.93336...\n",
      "1  0_聖誕節_聖誕樹_聖誕設施_1.jpg                  聖誕節_聖誕樹_聖誕設施 (0.9943460822105408)\n",
      "2  0_聖誕節_聖誕樹_聖誕設施_2.jpg  聖誕節_聖誕樹_聖誕設施 (0.9654117226600647)\\n 桌子 (0.9479...\n",
      "3  0_聖誕節_聖誕樹_聖誕設施_3.jpg                  聖誕節_聖誕樹_聖誕設施 (0.9999822378158569)\n",
      "4  0_聖誕節_聖誕樹_聖誕設施_4.jpg                  聖誕節_聖誕樹_聖誕設施 (0.9977343082427979)\n"
     ]
    }
   ],
   "source": [
    "csv_file_path = 'data/pred_w_new_thre_report.csv'\n",
    "df = pd.read_csv(csv_file_path)\n",
    "print(df[:5])"
   ]
  },
  {
   "cell_type": "code",
   "execution_count": 6,
   "metadata": {},
   "outputs": [],
   "source": [
    "# if any Prediction in Image Name (Ground Truth)\n",
    "## then number of correct ++\n",
    "## output average accuracy = total num of correct / total data"
   ]
  },
  {
   "cell_type": "code",
   "execution_count": null,
   "metadata": {},
   "outputs": [],
   "source": []
  }
 ],
 "metadata": {
  "kernelspec": {
   "display_name": "Python 3",
   "language": "python",
   "name": "python3"
  },
  "language_info": {
   "codemirror_mode": {
    "name": "ipython",
    "version": 3
   },
   "file_extension": ".py",
   "mimetype": "text/x-python",
   "name": "python",
   "nbconvert_exporter": "python",
   "pygments_lexer": "ipython3",
   "version": "3.6.3"
  }
 },
 "nbformat": 4,
 "nbformat_minor": 2
}
