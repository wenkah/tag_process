{
 "cells": [
  {
   "cell_type": "code",
   "execution_count": 2,
   "metadata": {},
   "outputs": [],
   "source": [
    "import pandas as pd\n",
    "import numpy as np"
   ]
  },
  {
   "cell_type": "code",
   "execution_count": 3,
   "metadata": {},
   "outputs": [
    {
     "name": "stdout",
     "output_type": "stream",
     "text": [
      "   Unnamed: 0                      image_id     pred_tags  \\\n",
      "0           0  custom/999/sparrow_00001.jpg  63 64 74 369   \n",
      "1           1  custom/999/sparrow_00002.jpg  63 64 74 369   \n",
      "2           2  custom/999/sparrow_00003.jpg  63 64 74 369   \n",
      "3           3  custom/999/sparrow_00004.jpg  63 64 74 369   \n",
      "4           4  custom/999/sparrow_00005.jpg  63 64 74 369   \n",
      "\n",
      "                                   pred_probs  \n",
      "0   0.99999464 0.99999976 0.9999896 0.9999857  \n",
      "1   0.99999595 0.9999988 0.9999995 0.99898523  \n",
      "2    0.99993455 0.9999988 0.9999958 0.9999981  \n",
      "3  0.99981743 0.99979275 0.99997985 0.9959947  \n",
      "4   0.9999273 0.9999962 0.96096283 0.99977595  \n"
     ]
    }
   ],
   "source": [
    "csv_file_path = 'data/model_0.5.0_pred_result.csv'\n",
    "df = pd.read_csv(csv_file_path)\n",
    "print(df[:5])"
   ]
  },
  {
   "cell_type": "code",
   "execution_count": 6,
   "metadata": {},
   "outputs": [],
   "source": [
    "# if any Prediction in Image Name (Ground Truth)\n",
    "## then number of correct ++\n",
    "## output average accuracy = total num of correct / total data"
   ]
  },
  {
   "cell_type": "code",
   "execution_count": 4,
   "metadata": {},
   "outputs": [],
   "source": [
    "## before count you must add tag 369 to gt_arr if pred_arr contain tag 369\n",
    "def count_precision_recall_fscore(gt_arr, pred_arr, num_cls):\n",
    "    tp_arr, gt_arr, pred_arr = count_precision_recall_fscore(gt_arr, pred_arr, num_cls)\n",
    "    gt = gt_arr.sum()\n",
    "    tp = tp_arr.sum()\n",
    "    pred = pred_arr.sum()\n",
    "    if gt == 0:\n",
    "        precision = 0\n",
    "    else:\n",
    "        precision = tp / gt\n",
    "    if pred == 0:\n",
    "        recall = 0\n",
    "    else:\n",
    "        recall = tp / pred\n",
    "    if (precision + recall) == 0:\n",
    "        fscore = 0\n",
    "    else:\n",
    "        fscore = 2*precision*recall / (precision + recall)\n",
    "\n",
    "    return precision, recall, fscore"
   ]
  },
  {
   "cell_type": "code",
   "execution_count": null,
   "metadata": {},
   "outputs": [],
   "source": []
  }
 ],
 "metadata": {
  "kernelspec": {
   "display_name": "Python 3",
   "language": "python",
   "name": "python3"
  },
  "language_info": {
   "codemirror_mode": {
    "name": "ipython",
    "version": 3
   },
   "file_extension": ".py",
   "mimetype": "text/x-python",
   "name": "python",
   "nbconvert_exporter": "python",
   "pygments_lexer": "ipython3",
   "version": "3.6.3"
  }
 },
 "nbformat": 4,
 "nbformat_minor": 2
}
