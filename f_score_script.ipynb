{
 "cells": [
  {
   "cell_type": "code",
   "execution_count": 139,
   "metadata": {},
   "outputs": [],
   "source": [
    "import pandas as pd\n",
    "import numpy as np\n",
    "df1 = pd.read_csv('custom_clean_data_prediction.csv')\n",
    "df1 = df1.values\n",
    "prediction = []\n",
    "for i in df1[:,2]:\n",
    "    i = str(i)\n",
    "    a = i.split(' ')\n",
    "    prediction.append(a)\n",
    "# print(prediction)"
   ]
  },
  {
   "cell_type": "code",
   "execution_count": 140,
   "metadata": {},
   "outputs": [],
   "source": [
    "df3 = pd.read_csv('custom_clean_data_ground_truth.csv')\n",
    "df3 = df3.values\n",
    "ground_truth = []\n",
    "for j in df3[:,0]:\n",
    "    a = j.split(' ')\n",
    "    ground_truth.append(a)\n",
    "# print(ground_truth)"
   ]
  },
  {
   "cell_type": "code",
   "execution_count": 147,
   "metadata": {},
   "outputs": [],
   "source": [
    "recall = []\n",
    "precision = []\n",
    "for i in range(len(ground_truth)):\n",
    "    n = len(ground_truth[i])\n",
    "    a = 0\n",
    "    for tag in prediction[i]:\n",
    "        if tag in ground_truth[i]:\n",
    "            a += 1\n",
    "    recall.append(float(a/n))\n",
    "# print('recall:    ' + str(recall))\n",
    "# print(len(recall))\n",
    "for i in range(len(ground_truth)):\n",
    "    n = len(prediction[i])\n",
    "    if n == 0:\n",
    "        precision.append(0.0)\n",
    "        continue\n",
    "    b = 0\n",
    "    for tag in prediction[i]:\n",
    "        if tag in ground_truth[i]:\n",
    "            b += 1\n",
    "    precision.append(float(b/n))\n",
    "# print('precision: ' + str(precision))\n",
    "# print(len(precision))\n",
    "f_score = []\n",
    "for i in range(len(recall)):\n",
    "    if precision[i] == 0 and recall[i] == 0:\n",
    "        c = 0\n",
    "    else:\n",
    "        c = 2*(precision[i]*recall[i])/(precision[i]+recall[i])\n",
    "    f_score.append(c)\n",
    "# print(f_score)\n",
    "accuracy = []\n",
    "for i in range(len(ground_truth)):\n",
    "    d = 0\n",
    "    n = len(ground_truth[i]) + len(prediction[i])\n",
    "    for tag in prediction[i]:\n",
    "        if tag in ground_truth[i]:\n",
    "            d += 1\n",
    "            n -= 1\n",
    "    accuracy.append(float(d/n))\n",
    "# print(accuracy)"
   ]
  },
  {
   "cell_type": "code",
   "execution_count": 146,
   "metadata": {},
   "outputs": [],
   "source": [
    "import pandas as pd \n",
    "df = pd.DataFrame({ \"precision\" : precision, \"recall\" : recall, \"accuracy\": accuracy, \"f_score\" : f_score})\n",
    "df.to_csv(\"custom_clean_data_fscore.csv\", index=False)"
   ]
  },
  {
   "cell_type": "code",
   "execution_count": null,
   "metadata": {},
   "outputs": [],
   "source": []
  }
 ],
 "metadata": {
  "kernelspec": {
   "display_name": "Python 3",
   "language": "python",
   "name": "python3"
  },
  "language_info": {
   "codemirror_mode": {
    "name": "ipython",
    "version": 3
   },
   "file_extension": ".py",
   "mimetype": "text/x-python",
   "name": "python",
   "nbconvert_exporter": "python",
   "pygments_lexer": "ipython3",
   "version": "3.6.5"
  }
 },
 "nbformat": 4,
 "nbformat_minor": 2
}
